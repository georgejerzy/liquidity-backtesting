{
 "cells": [
  {
   "cell_type": "markdown",
   "metadata": {
    "collapsed": false,
    "jupyter": {
     "outputs_hidden": false
    }
   },
   "source": [
    "# No Provision\n",
    "\n",
    "In this strategy, half of the portfolio is in token zero, and the other half is in token one. The assets will not be deposited in any pool. This simple strategy is a good benchmark because it shows how much the value of the tokens increased. Since no liquidity was provided, there is no impermanent loss of earned fees. This strategy will be our reference strategy, which we will take as a baseline."
   ]
  },
  {
   "cell_type": "code",
   "execution_count": null,
   "metadata": {},
   "outputs": [],
   "source": []
  },
  {
   "cell_type": "markdown",
   "metadata": {
    "collapsed": false,
    "jupyter": {
     "outputs_hidden": false
    }
   },
   "source": [
    "Import code dependencies\n"
   ]
  },
  {
   "cell_type": "code",
   "execution_count": 2,
   "metadata": {
    "ExecuteTime": {
     "end_time": "2024-07-22T08:10:08.302599Z",
     "start_time": "2024-07-22T08:10:08.298746Z"
    },
    "collapsed": false,
    "jupyter": {
     "outputs_hidden": false
    }
   },
   "outputs": [],
   "source": [
    "from datetime import date, datetime\n",
    "import pandas as pd\n",
    "from demeter import TokenInfo, Actuator, Strategy, ChainType, MarketInfo, AtTimeTrigger\n",
    "from demeter.result import performance_metrics, round_results\n",
    "from demeter.uniswap import UniV3Pool, UniLpMarket\n",
    "from demeter import Snapshot\n"
   ]
  },
  {
   "cell_type": "markdown",
   "metadata": {
    "collapsed": false,
    "jupyter": {
     "outputs_hidden": false
    }
   },
   "source": [
    "Set pandas output format"
   ]
  },
  {
   "cell_type": "code",
   "execution_count": 3,
   "metadata": {
    "ExecuteTime": {
     "end_time": "2024-07-22T08:10:08.325812Z",
     "start_time": "2024-07-22T08:10:08.322301Z"
    },
    "collapsed": false,
    "jupyter": {
     "outputs_hidden": false
    }
   },
   "outputs": [],
   "source": [
    "pd.options.display.max_columns = None\n",
    "pd.set_option(\"display.width\", 5000)"
   ]
  },
  {
   "cell_type": "markdown",
   "metadata": {
    "collapsed": false,
    "jupyter": {
     "outputs_hidden": false
    }
   },
   "source": [
    "Custom No Provision strategy with nothing in work function."
   ]
  },
  {
   "cell_type": "code",
   "execution_count": 7,
   "metadata": {
    "ExecuteTime": {
     "end_time": "2024-07-22T08:10:08.348513Z",
     "start_time": "2024-07-22T08:10:08.343063Z"
    },
    "collapsed": false,
    "jupyter": {
     "outputs_hidden": false
    }
   },
   "outputs": [],
   "source": [
    "\n",
    "class NoProvisionStrategy(Strategy):\n",
    "    def initialize(self):\n",
    "        \"\"\"\n",
    "        Initialize function will be called right before a backtest start.\n",
    "        You can do various things here, e.g. register a trigger, or add a simple moving average line.\n",
    "        \"\"\"\n",
    "        new_trigger = AtTimeTrigger(  \n",
    "            time=datetime(2025, 1, 1, 0, 0, 0), do=self.on_bar\n",
    "        )  \n",
    "        self.triggers.append(new_trigger)  \n",
    "\n",
    "    def on_bar(self, row_data: Snapshot):\n",
    "            \"\"\"\n",
    "            When time is up, work function will be called.\n",
    "            \"\"\"\n",
    "            pass"
   ]
  },
  {
   "cell_type": "markdown",
   "metadata": {
    "collapsed": false,
    "jupyter": {
     "outputs_hidden": false
    }
   },
   "source": [
    "Main logic to run Actuator"
   ]
  },
  {
   "cell_type": "code",
   "execution_count": 8,
   "metadata": {
    "ExecuteTime": {
     "end_time": "2024-07-22T08:10:08.426290Z",
     "start_time": "2024-07-22T08:10:08.363524Z"
    },
    "collapsed": false,
    "jupyter": {
     "outputs_hidden": false
    }
   },
   "outputs": [
    {
     "name": "stderr",
     "output_type": "stream",
     "text": [
      "2025-03-12 19:58:57,123 - INFO - Uni data - Load data from cache\n",
      "2025-03-12 19:58:57,247 - INFO - Actuator - Quote token is USDC\n",
      "2025-03-12 19:58:57,247 - INFO - Actuator - init strategy...\n",
      "2025-03-12 19:58:57,249 - INFO - Actuator - start main loop...\n",
      "100%|█████████████████████████████████████████████████████████████████████████████████████████████████████████| 86400/86400 [00:32<00:00, 2621.75it/s]\n",
      "2025-03-12 19:59:30,209 - INFO - Actuator - main loop finished\n",
      "2025-03-12 19:59:31,891 - INFO - Actuator - Print actuator summary\n"
     ]
    },
    {
     "name": "stdout",
     "output_type": "stream",
     "text": [
      "\u001b[7;31mFinal account status                              \u001b[0m\n",
      "\u001b[7;35mToken balance in broker       \u001b[0m\n",
      "\u001b[34mUSDC      \u001b[0m:5000                     \u001b[34mETH       \u001b[0m:1                        \n",
      "\u001b[7;35mPosition value in markets     \u001b[0m\n",
      "\u001b[4;33mmarket1(UniLpMarket)\u001b[0m\n",
      "\u001b[34mtoken0    \u001b[0m:USDC                     \u001b[34mtoken1    \u001b[0m:ETH                      \u001b[34mfee(%)    \u001b[0m:0.0500                   \u001b[34mquote token\u001b[0m:USDC                     \n",
      "\u001b[34mpositions \u001b[0m\n",
      "Empty DataFrame\n",
      "\n",
      "\n",
      "\u001b[34mQuote by: USDC\u001b[0m\n",
      "\u001b[7;31mAccount balance history                           \u001b[0m\n"
     ]
    },
    {
     "name": "stderr",
     "output_type": "stream",
     "text": [
      "2025-03-12 19:59:32,110 - INFO - Actuator - Backtest with process id: 1932969 finished, execute time 34.865s\n"
     ]
    },
    {
     "name": "stdout",
     "output_type": "stream",
     "text": [
      "l1                  net_value tokens       market1                                                                                                          price     \n",
      "l2                              USDC ETH net_value liquidity_value base_uncollected quote_uncollected base_in_position quote_in_position position_count       ETH USDC\n",
      "2025-01-01 00:00:00  8331.897   5000   1         0               0                0                 0                0                 0              0  3331.897    1\n",
      "2025-01-01 00:01:00 8331.5638   5000   1         0               0                0                 0                0                 0              0 3331.5638    1\n",
      "2025-01-01 00:02:00  8331.897   5000   1         0               0                0                 0                0                 0              0  3331.897    1\n",
      "2025-01-01 00:03:00 8333.5633   5000   1         0               0                0                 0                0                 0              0 3333.5633    1\n",
      "2025-01-01 00:04:00 8333.5633   5000   1         0               0                0                 0                0                 0              0 3333.5633    1\n",
      "...                       ...    ...  ..       ...             ...              ...               ...              ...               ...            ...       ...  ...\n",
      "2025-03-01 23:55:00 7212.8079   5000   1         0               0                0                 0                0                 0              0 2212.8079    1\n",
      "2025-03-01 23:56:00  7214.136   5000   1         0               0                0                 0                0                 0              0  2214.136    1\n",
      "2025-03-01 23:57:00 7215.4648   5000   1         0               0                0                 0                0                 0              0 2215.4648    1\n",
      "2025-03-01 23:58:00 7217.0161   5000   1         0               0                0                 0                0                 0              0 2217.0161    1\n",
      "2025-03-01 23:59:00 7217.0161   5000   1         0               0                0                 0                0                 0              0 2217.0161    1\n",
      "\n",
      "[86400 rows x 12 columns]\n",
      "{Start period: Timestamp('2025-01-01 00:00:00'), End period: Timestamp('2025-03-01 23:59:00'), Start Value: np.float64(8331.897), End Value: np.float64(7217.016), Duration: Timedelta('60 days 00:00:00'), Return: np.float64(-1114.881), Rate of Return: np.float64(-0.134), APR: np.float64(-0.583), Max Draw Down: np.float64(0.191), Sharpe Ratio: np.float64(-2.14), Volatility: np.float64(0.286), Alpha: np.float64(-0.259), Beta: np.float64(0.354), Benchmark return rate: np.float64(-0.335), Benchmark APR: np.float64(-0.916)}\n"
     ]
    },
    {
     "name": "stderr",
     "output_type": "stream",
     "text": [
      "2025-03-12 19:59:32,967 - INFO - Actuator - files have saved to ./result/backtest-20250312-195932.pkl,./result/backtest-20250312-195932.account.csv\n"
     ]
    },
    {
     "data": {
      "text/plain": [
       "['./result/backtest-20250312-195932.pkl',\n",
       " './result/backtest-20250312-195932.account.csv']"
      ]
     },
     "execution_count": 8,
     "metadata": {},
     "output_type": "execute_result"
    }
   ],
   "source": [
    "\n",
    "# Declare tokens with names used as units for amounts\n",
    "usdc = TokenInfo(name=\"usdc\", decimal=6)\n",
    "eth = TokenInfo(name=\"eth\", decimal=18)\n",
    "\n",
    "# Initialize Uniswap V3 Pool with parameters matching on-chain pool\n",
    "pool = UniV3Pool(token0=usdc, token1=eth, fee=0.05, quote_token=usdc)\n",
    "\n",
    "# Define market key and create Uniswap V3 market\n",
    "market_key = MarketInfo(\"market1\")\n",
    "market = UniLpMarket(market_key, pool)\n",
    "\n",
    "# Load data for the market\n",
    "market.data_path = \"../data\"\n",
    "market.load_data(\n",
    "    chain=\"ethereum\",\n",
    "    contract_addr=\"0x88e6a0c2ddd26feeb64f039a2c41296fcb3f5640\",\n",
    "    start_date=date(2025, 1, 1),\n",
    "    end_date=date(2025, 3, 1)\n",
    ")\n",
    "\n",
    "# Initialize Actuator to manage the process\n",
    "actuator = Actuator()\n",
    "actuator.broker.add_market(market)\n",
    "\n",
    "# Set initial fund balance for broker\n",
    "actuator.broker.set_balance(usdc, 5000)\n",
    "actuator.broker.set_balance(eth, 1)\n",
    "\n",
    "# Assign No Provision strategy to the Actuator\n",
    "actuator.strategy = NoProvisionStrategy()\n",
    "\n",
    "# Load price data from the Uniswap pool and set it for the Actuator\n",
    "actuator.set_price(market.get_price_from_data())\n",
    "\n",
    "# Run the test and print performance results\n",
    "actuator.run()\n",
    "print(round_results(performance_metrics(actuator.account_status_df[\"net_value\"], benchmark=actuator.account_status_df[\"price\"][\"ETH\"])))\n",
    "\n",
    "# Save results to the specified path\n",
    "actuator.save_result(\n",
    "    path=\"./result\",\n",
    "    account=True,\n",
    "    actions=True\n",
    ")"
   ]
  },
  {
   "cell_type": "markdown",
   "metadata": {
    "collapsed": false,
    "jupyter": {
     "outputs_hidden": false
    }
   },
   "source": [
    "Run actuator with evaluators and save result to files"
   ]
  },
  {
   "cell_type": "code",
   "execution_count": 6,
   "metadata": {
    "ExecuteTime": {
     "end_time": "2024-10-16T08:03:02.313052Z",
     "start_time": "2024-10-16T08:03:02.015445Z"
    }
   },
   "outputs": [
    {
     "ename": "KeyError",
     "evalue": "'net_value'",
     "output_type": "error",
     "traceback": [
      "\u001b[31m---------------------------------------------------------------------------\u001b[39m",
      "\u001b[31mKeyError\u001b[39m                                  Traceback (most recent call last)",
      "\u001b[36mCell\u001b[39m\u001b[36m \u001b[39m\u001b[32mIn[6]\u001b[39m\u001b[32m, line 5\u001b[39m\n\u001b[32m      3\u001b[39m \u001b[38;5;66;03m# Plot the net_value of the strategy over time\u001b[39;00m\n\u001b[32m      4\u001b[39m plt.figure(figsize=(\u001b[32m10\u001b[39m, \u001b[32m6\u001b[39m))\n\u001b[32m----> \u001b[39m\u001b[32m5\u001b[39m plt.plot(actuator.account_status_df.index, \u001b[43mactuator\u001b[49m\u001b[43m.\u001b[49m\u001b[43maccount_status_df\u001b[49m\u001b[43m[\u001b[49m\u001b[33;43m\"\u001b[39;49m\u001b[33;43mnet_value\u001b[39;49m\u001b[33;43m\"\u001b[39;49m\u001b[43m]\u001b[49m, label=\u001b[33m\"\u001b[39m\u001b[33mNet Value\u001b[39m\u001b[33m\"\u001b[39m)\n\u001b[32m      6\u001b[39m plt.xlabel(\u001b[33m\"\u001b[39m\u001b[33mDate\u001b[39m\u001b[33m\"\u001b[39m)\n\u001b[32m      7\u001b[39m plt.ylabel(\u001b[33m\"\u001b[39m\u001b[33mNet Value (USD)\u001b[39m\u001b[33m\"\u001b[39m)\n",
      "\u001b[36mFile \u001b[39m\u001b[32m~/workspace/Backtesting-Uniswap-V3-Strategies/.venv/lib/python3.11/site-packages/pandas/core/frame.py:4102\u001b[39m, in \u001b[36mDataFrame.__getitem__\u001b[39m\u001b[34m(self, key)\u001b[39m\n\u001b[32m   4100\u001b[39m \u001b[38;5;28;01mif\u001b[39;00m \u001b[38;5;28mself\u001b[39m.columns.nlevels > \u001b[32m1\u001b[39m:\n\u001b[32m   4101\u001b[39m     \u001b[38;5;28;01mreturn\u001b[39;00m \u001b[38;5;28mself\u001b[39m._getitem_multilevel(key)\n\u001b[32m-> \u001b[39m\u001b[32m4102\u001b[39m indexer = \u001b[38;5;28;43mself\u001b[39;49m\u001b[43m.\u001b[49m\u001b[43mcolumns\u001b[49m\u001b[43m.\u001b[49m\u001b[43mget_loc\u001b[49m\u001b[43m(\u001b[49m\u001b[43mkey\u001b[49m\u001b[43m)\u001b[49m\n\u001b[32m   4103\u001b[39m \u001b[38;5;28;01mif\u001b[39;00m is_integer(indexer):\n\u001b[32m   4104\u001b[39m     indexer = [indexer]\n",
      "\u001b[36mFile \u001b[39m\u001b[32m~/workspace/Backtesting-Uniswap-V3-Strategies/.venv/lib/python3.11/site-packages/pandas/core/indexes/range.py:417\u001b[39m, in \u001b[36mRangeIndex.get_loc\u001b[39m\u001b[34m(self, key)\u001b[39m\n\u001b[32m    415\u001b[39m         \u001b[38;5;28;01mraise\u001b[39;00m \u001b[38;5;167;01mKeyError\u001b[39;00m(key) \u001b[38;5;28;01mfrom\u001b[39;00m\u001b[38;5;250m \u001b[39m\u001b[34;01merr\u001b[39;00m\n\u001b[32m    416\u001b[39m \u001b[38;5;28;01mif\u001b[39;00m \u001b[38;5;28misinstance\u001b[39m(key, Hashable):\n\u001b[32m--> \u001b[39m\u001b[32m417\u001b[39m     \u001b[38;5;28;01mraise\u001b[39;00m \u001b[38;5;167;01mKeyError\u001b[39;00m(key)\n\u001b[32m    418\u001b[39m \u001b[38;5;28mself\u001b[39m._check_indexing_error(key)\n\u001b[32m    419\u001b[39m \u001b[38;5;28;01mraise\u001b[39;00m \u001b[38;5;167;01mKeyError\u001b[39;00m(key)\n",
      "\u001b[31mKeyError\u001b[39m: 'net_value'"
     ]
    },
    {
     "data": {
      "text/plain": [
       "<Figure size 1000x600 with 0 Axes>"
      ]
     },
     "metadata": {},
     "output_type": "display_data"
    }
   ],
   "source": [
    "import matplotlib.pyplot as plt\n",
    "\n",
    "# Plot the net_value of the strategy over time\n",
    "plt.figure(figsize=(10, 6))\n",
    "plt.plot(actuator.account_status_df.index, actuator.account_status_df[\"net_value\"], label=\"Net Value\")\n",
    "plt.xlabel(\"Date\")\n",
    "plt.ylabel(\"Net Value (USD)\")\n",
    "plt.title(\"No Provision Strategy Net Value Over Time\")\n",
    "plt.legend()\n",
    "plt.grid(True)\n",
    "plt.show()\n"
   ]
  },
  {
   "cell_type": "markdown",
   "metadata": {},
   "source": []
  }
 ],
 "metadata": {
  "kernelspec": {
   "display_name": ".venv",
   "language": "python",
   "name": "python3"
  },
  "language_info": {
   "codemirror_mode": {
    "name": "ipython",
    "version": 3
   },
   "file_extension": ".py",
   "mimetype": "text/x-python",
   "name": "python",
   "nbconvert_exporter": "python",
   "pygments_lexer": "ipython3",
   "version": "3.11.7"
  }
 },
 "nbformat": 4,
 "nbformat_minor": 4
}
